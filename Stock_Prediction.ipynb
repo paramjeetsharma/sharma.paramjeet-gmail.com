{
 "cells": [
  {
   "cell_type": "code",
   "execution_count": 1,
   "metadata": {},
   "outputs": [
    {
     "name": "stderr",
     "output_type": "stream",
     "text": [
      "Using TensorFlow backend.\n"
     ]
    }
   ],
   "source": [
    "\n",
    "import numpy as np\n",
    "import matplotlib.pyplot as plt\n",
    "import pandas as pd\n",
    "from pandas import datetime\n",
    "import math, time\n",
    "import itertools\n",
    "from sklearn import preprocessing\n",
    "import datetime\n",
    "from operator import itemgetter\n",
    "from sklearn.metrics import mean_squared_error\n",
    "from math import sqrt\n",
    "from keras.models import Sequential\n",
    "from keras.layers.core import Dense, Dropout, Activation\n",
    "from keras.layers.recurrent import LSTM\n",
    "import yfinance as yf"
   ]
  },
  {
   "cell_type": "code",
   "execution_count": null,
   "metadata": {},
   "outputs": [],
   "source": []
  },
  {
   "cell_type": "code",
   "execution_count": 2,
   "metadata": {},
   "outputs": [],
   "source": [
    "def get_stock_data(stock_name):\n",
    "    msft = yf.Ticker(stock_name)\n",
    "    df=pd.DataFrame(msft.history(period=\"max\"))\n",
    "    df.reset_index(inplace=True)\n",
    "    col_names = ['Date','Open','High','Close']\n",
    "    df=df[col_names]\n",
    "    df.sort_values(by=['Date'], inplace=True, ascending=False)\n",
    "    return df"
   ]
  },
  {
   "cell_type": "code",
   "execution_count": 3,
   "metadata": {},
   "outputs": [
    {
     "data": {
      "text/html": [
       "<div>\n",
       "<style scoped>\n",
       "    .dataframe tbody tr th:only-of-type {\n",
       "        vertical-align: middle;\n",
       "    }\n",
       "\n",
       "    .dataframe tbody tr th {\n",
       "        vertical-align: top;\n",
       "    }\n",
       "\n",
       "    .dataframe thead th {\n",
       "        text-align: right;\n",
       "    }\n",
       "</style>\n",
       "<table border=\"1\" class=\"dataframe\">\n",
       "  <thead>\n",
       "    <tr style=\"text-align: right;\">\n",
       "      <th></th>\n",
       "      <th>Date</th>\n",
       "      <th>Open</th>\n",
       "      <th>High</th>\n",
       "      <th>Close</th>\n",
       "    </tr>\n",
       "  </thead>\n",
       "  <tbody>\n",
       "    <tr>\n",
       "      <th>3928</th>\n",
       "      <td>2020-03-27</td>\n",
       "      <td>1127.47</td>\n",
       "      <td>1151.05</td>\n",
       "      <td>1110.26</td>\n",
       "    </tr>\n",
       "    <tr>\n",
       "      <th>3927</th>\n",
       "      <td>2020-03-26</td>\n",
       "      <td>1114.72</td>\n",
       "      <td>1171.48</td>\n",
       "      <td>1162.92</td>\n",
       "    </tr>\n",
       "    <tr>\n",
       "      <th>3926</th>\n",
       "      <td>2020-03-25</td>\n",
       "      <td>1124.58</td>\n",
       "      <td>1146.17</td>\n",
       "      <td>1101.62</td>\n",
       "    </tr>\n",
       "    <tr>\n",
       "      <th>3925</th>\n",
       "      <td>2020-03-24</td>\n",
       "      <td>1103.98</td>\n",
       "      <td>1133.33</td>\n",
       "      <td>1130.01</td>\n",
       "    </tr>\n",
       "    <tr>\n",
       "      <th>3924</th>\n",
       "      <td>2020-03-23</td>\n",
       "      <td>1056.37</td>\n",
       "      <td>1066.91</td>\n",
       "      <td>1054.13</td>\n",
       "    </tr>\n",
       "  </tbody>\n",
       "</table>\n",
       "</div>"
      ],
      "text/plain": [
       "           Date     Open     High    Close\n",
       "3928 2020-03-27  1127.47  1151.05  1110.26\n",
       "3927 2020-03-26  1114.72  1171.48  1162.92\n",
       "3926 2020-03-25  1124.58  1146.17  1101.62\n",
       "3925 2020-03-24  1103.98  1133.33  1130.01\n",
       "3924 2020-03-23  1056.37  1066.91  1054.13"
      ]
     },
     "execution_count": 3,
     "metadata": {},
     "output_type": "execute_result"
    }
   ],
   "source": [
    "stock_name = 'GOOGL'\n",
    "df = get_stock_data(stock_name)\n",
    "df.head()"
   ]
  },
  {
   "cell_type": "code",
   "execution_count": 4,
   "metadata": {},
   "outputs": [],
   "source": [
    "df.drop('Date', axis=1, inplace=True)"
   ]
  },
  {
   "cell_type": "code",
   "execution_count": 5,
   "metadata": {},
   "outputs": [],
   "source": [
    "def load_data(stock, seq_len):\n",
    "    amount_of_features = len(stock.columns)\n",
    "    data = stock.as_matrix() #pd.DataFrame(stock)\n",
    "    sequence_length = seq_len + 1\n",
    "    result = []\n",
    "    for index in range(len(data) - sequence_length):\n",
    "        result.append(data[index: index + sequence_length])\n",
    "\n",
    "    result = np.array(result)\n",
    "    row = round(0.9 * result.shape[0])\n",
    "    train = result[:int(row), :]\n",
    "    x_train = train[:, :-1]\n",
    "    y_train = train[:, -1][:,-1]\n",
    "    x_test = result[int(row):, :-1]\n",
    "    y_test = result[int(row):, -1][:,-1]\n",
    "\n",
    "    x_train = np.reshape(x_train, (x_train.shape[0], x_train.shape[1], amount_of_features))\n",
    "    x_test = np.reshape(x_test, (x_test.shape[0], x_test.shape[1], amount_of_features))  \n",
    "\n",
    "    return [x_train, y_train, x_test, y_test]"
   ]
  },
  {
   "cell_type": "code",
   "execution_count": 10,
   "metadata": {},
   "outputs": [],
   "source": [
    "#Build the model\n",
    "def build_model(layers):\n",
    "    model = Sequential()\n",
    "\n",
    "    model.add(LSTM(\n",
    "        input_dim=layers[0],\n",
    "        output_dim=layers[1],\n",
    "        return_sequences=True))\n",
    "    model.add(Dropout(0.2))\n",
    "\n",
    "    model.add(LSTM(\n",
    "        layers[2],\n",
    "        return_sequences=False))\n",
    "    model.add(Dropout(0.2))\n",
    "\n",
    "    model.add(Dense(\n",
    "        output_dim=layers[2]))\n",
    "    model.add(Activation(\"linear\"))\n",
    "\n",
    "    start = time.time()\n",
    "    model.compile(loss=\"mse\", optimizer=\"rmsprop\",metrics=['accuracy'])\n",
    "    print(\"Compilation Time : \", time.time() - start)\n",
    "    return model\n",
    "\n",
    "def build_model2(layers):\n",
    "        d = 0.2\n",
    "        model = Sequential()\n",
    "        model.add(LSTM(128, input_shape=(layers[1], layers[0]), return_sequences=True))\n",
    "        model.add(Dropout(d))\n",
    "        model.add(LSTM(64, input_shape=(layers[1], layers[0]), return_sequences=False))\n",
    "        model.add(Dropout(d))\n",
    "        model.add(Dense(12, input_dim=8, kernel_initializer ='uniform', activation='relu'))\n",
    "        model.add(Dense(8, kernel_initializer ='uniform', activation='relu'))\n",
    "        model.add(Dense(1, kernel_initializer ='uniform', activation='sigmoid'))\n",
    "        model.compile(loss='mse',optimizer='adam',metrics=['accuracy'])\n",
    "        return model"
   ]
  },
  {
   "cell_type": "code",
   "execution_count": 7,
   "metadata": {},
   "outputs": [
    {
     "name": "stdout",
     "output_type": "stream",
     "text": [
      "X_train (3496, 44, 3)\n",
      "y_train (3496,)\n",
      "X_test (388, 44, 3)\n",
      "y_test (388,)\n"
     ]
    },
    {
     "name": "stderr",
     "output_type": "stream",
     "text": [
      "C:\\ProgramData\\Anaconda3\\lib\\site-packages\\ipykernel_launcher.py:3: FutureWarning: Method .as_matrix will be removed in a future version. Use .values instead.\n",
      "  This is separate from the ipykernel package so we can avoid doing imports until\n"
     ]
    }
   ],
   "source": [
    "window = 44\n",
    "X_train, y_train, X_test, y_test = load_data(df[::-1], window)\n",
    "print(\"X_train\", X_train.shape)\n",
    "print(\"y_train\", y_train.shape)\n",
    "print(\"X_test\", X_test.shape)\n",
    "print(\"y_test\", y_test.shape)"
   ]
  },
  {
   "cell_type": "code",
   "execution_count": 11,
   "metadata": {},
   "outputs": [],
   "source": [
    "\n",
    "# model = build_model([3,lag,1])\n",
    "model = build_model2([3,window,1])"
   ]
  },
  {
   "cell_type": "code",
   "execution_count": null,
   "metadata": {},
   "outputs": [
    {
     "name": "stdout",
     "output_type": "stream",
     "text": [
      "Train on 2447 samples, validate on 1049 samples\n",
      "Epoch 1/100\n",
      "2447/2447 [==============================] - 22s 9ms/step - loss: 89321.0690 - accuracy: 0.0000e+00 - val_loss: 695690.5858 - val_accuracy: 0.0000e+00\n",
      "Epoch 2/100\n",
      "2447/2447 [==============================] - 21s 9ms/step - loss: 89285.4289 - accuracy: 0.0000e+00 - val_loss: 695690.5114 - val_accuracy: 0.0000e+00\n",
      "Epoch 3/100\n",
      "2447/2447 [==============================] - 21s 9ms/step - loss: 89285.4152 - accuracy: 0.0000e+00 - val_loss: 695690.5114 - val_accuracy: 0.0000e+00\n",
      "Epoch 4/100\n",
      "2447/2447 [==============================] - 25s 10ms/step - loss: 89285.4149 - accuracy: 0.0000e+00 - val_loss: 695690.5114 - val_accuracy: 0.0000e+00\n",
      "Epoch 5/100\n",
      "2447/2447 [==============================] - 22s 9ms/step - loss: 89285.4148 - accuracy: 0.0000e+00 - val_loss: 695690.5114 - val_accuracy: 0.0000e+00\n",
      "Epoch 6/100\n",
      "2447/2447 [==============================] - 24s 10ms/step - loss: 89285.4150 - accuracy: 0.0000e+00 - val_loss: 695690.5114 - val_accuracy: 0.0000e+00\n",
      "Epoch 7/100\n",
      "2447/2447 [==============================] - 23s 9ms/step - loss: 89285.4147 - accuracy: 0.0000e+00 - val_loss: 695690.5114 - val_accuracy: 0.0000e+00\n",
      "Epoch 8/100\n",
      "2447/2447 [==============================] - 23s 9ms/step - loss: 89285.4148 - accuracy: 0.0000e+00 - val_loss: 695690.5114 - val_accuracy: 0.0000e+00\n",
      "Epoch 9/100\n",
      "2447/2447 [==============================] - 22s 9ms/step - loss: 89285.4147 - accuracy: 0.0000e+00 - val_loss: 695690.5114 - val_accuracy: 0.0000e+00\n",
      "Epoch 10/100\n",
      "2447/2447 [==============================] - 22s 9ms/step - loss: 89285.4145 - accuracy: 0.0000e+00 - val_loss: 695690.5114 - val_accuracy: 0.0000e+00\n",
      "Epoch 11/100\n",
      "2447/2447 [==============================] - 22s 9ms/step - loss: 89285.4152 - accuracy: 0.0000e+00 - val_loss: 695690.5114 - val_accuracy: 0.0000e+00\n",
      "Epoch 12/100\n",
      "2447/2447 [==============================] - 22s 9ms/step - loss: 89285.4148 - accuracy: 0.0000e+00 - val_loss: 695690.5114 - val_accuracy: 0.0000e+00\n",
      "Epoch 13/100\n",
      "2447/2447 [==============================] - 23s 9ms/step - loss: 89285.4149 - accuracy: 0.0000e+00 - val_loss: 695690.5114 - val_accuracy: 0.0000e+00\n",
      "Epoch 14/100\n",
      "2447/2447 [==============================] - 24s 10ms/step - loss: 89285.4147 - accuracy: 0.0000e+00 - val_loss: 695690.5114 - val_accuracy: 0.0000e+00\n",
      "Epoch 15/100\n",
      " 800/2447 [========>.....................] - ETA: 16s - loss: 86546.6129 - accuracy: 0.0000e+00"
     ]
    }
   ],
   "source": [
    "\n",
    "model.fit(\n",
    "    X_train,\n",
    "    y_train,\n",
    "    batch_size=5,\n",
    "    epochs=100,\n",
    "    validation_split=0.3,\n",
    "    verbose=1)"
   ]
  },
  {
   "cell_type": "code",
   "execution_count": null,
   "metadata": {},
   "outputs": [],
   "source": [
    "trainScore = model.evaluate(X_train, y_train, verbose=0)\n",
    "print('Train Score: %.2f MSE (%.2f RMSE)' % (trainScore[0], math.sqrt(trainScore[0])))\n",
    "\n",
    "testScore = model.evaluate(X_test, y_test, verbose=0)\n",
    "print('Test Score: %.2f MSE (%.2f RMSE)' % (testScore[0], math.sqrt(testScore[0])))"
   ]
  },
  {
   "cell_type": "code",
   "execution_count": null,
   "metadata": {},
   "outputs": [],
   "source": [
    "p = model.predict(X_test)\n",
    "import matplotlib.pyplot as plt2\n",
    "\n",
    "plt2.plot(p,color='red', label='prediction')\n",
    "plt2.plot(y_test,color='blue', label='y_test')\n",
    "plt2.legend(loc='upper left')\n",
    "plt2.show()"
   ]
  },
  {
   "cell_type": "code",
   "execution_count": null,
   "metadata": {},
   "outputs": [],
   "source": []
  },
  {
   "cell_type": "code",
   "execution_count": null,
   "metadata": {},
   "outputs": [],
   "source": []
  }
 ],
 "metadata": {
  "kernelspec": {
   "display_name": "Python 3",
   "language": "python",
   "name": "python3"
  },
  "language_info": {
   "codemirror_mode": {
    "name": "ipython",
    "version": 3
   },
   "file_extension": ".py",
   "mimetype": "text/x-python",
   "name": "python",
   "nbconvert_exporter": "python",
   "pygments_lexer": "ipython3",
   "version": "3.7.3"
  }
 },
 "nbformat": 4,
 "nbformat_minor": 2
}
